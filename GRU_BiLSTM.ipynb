{
 "cells": [
  {
   "cell_type": "code",
   "execution_count": null,
   "metadata": {
    "colab": {
     "base_uri": "https://localhost:8080/"
    },
    "id": "0IWq-wjiEyqI",
    "outputId": "56ebb4f7-5fe1-4925-89c5-5b6b6408cd61"
   },
   "outputs": [
    {
     "name": "stderr",
     "output_type": "stream",
     "text": [
      "[nltk_data] Downloading package punkt to /root/nltk_data...\n",
      "[nltk_data]   Package punkt is already up-to-date!\n",
      "[nltk_data] Downloading package punkt_tab to /root/nltk_data...\n",
      "[nltk_data]   Package punkt_tab is already up-to-date!\n"
     ]
    }
   ],
   "source": [
    "import nltk\n",
    "import shutil\n",
    "\n",
    "# Step 1: Delete broken punkt folder\n",
    "shutil.rmtree('/root/nltk_data/tokenizers/punkt', ignore_errors=True)\n",
    "\n",
    "# Step 2: Re-download punkt\n",
    "nltk.download('punkt')\n",
    "nltk.download('punkt_tab')\n",
    "\n",
    "# Step 3: Force load\n",
    "from nltk.tokenize import PunktSentenceTokenizer\n",
    "_ = PunktSentenceTokenizer()"
   ]
  },
  {
   "cell_type": "code",
   "execution_count": null,
   "metadata": {
    "colab": {
     "base_uri": "https://localhost:8080/"
    },
    "id": "xkXkGbLZPatu",
    "outputId": "531c899c-1af5-4ddd-d38e-8fef3eb8806e"
   },
   "outputs": [
    {
     "name": "stdout",
     "output_type": "stream",
     "text": [
      "Requirement already satisfied: gensim in /usr/local/lib/python3.11/dist-packages (4.3.3)\n",
      "Requirement already satisfied: numpy<2.0,>=1.18.5 in /usr/local/lib/python3.11/dist-packages (from gensim) (1.26.4)\n",
      "Requirement already satisfied: scipy<1.14.0,>=1.7.0 in /usr/local/lib/python3.11/dist-packages (from gensim) (1.13.1)\n",
      "Requirement already satisfied: smart-open>=1.8.1 in /usr/local/lib/python3.11/dist-packages (from gensim) (7.1.0)\n",
      "Requirement already satisfied: wrapt in /usr/local/lib/python3.11/dist-packages (from smart-open>=1.8.1->gensim) (1.17.2)\n"
     ]
    }
   ],
   "source": [
    "!pip install gensim"
   ]
  },
  {
   "cell_type": "code",
   "execution_count": null,
   "metadata": {
    "colab": {
     "base_uri": "https://localhost:8080/"
    },
    "id": "anZb364NPoBd",
    "outputId": "802af02a-7519-4007-a619-4587129c93f2"
   },
   "outputs": [
    {
     "name": "stdout",
     "output_type": "stream",
     "text": [
      "Requirement already satisfied: numpy in /usr/local/lib/python3.11/dist-packages (1.26.4)\n",
      "Collecting numpy\n",
      "  Using cached numpy-2.2.4-cp311-cp311-manylinux_2_17_x86_64.manylinux2014_x86_64.whl.metadata (62 kB)\n",
      "Using cached numpy-2.2.4-cp311-cp311-manylinux_2_17_x86_64.manylinux2014_x86_64.whl (16.4 MB)\n",
      "Installing collected packages: numpy\n",
      "  Attempting uninstall: numpy\n",
      "    Found existing installation: numpy 1.26.4\n",
      "    Uninstalling numpy-1.26.4:\n",
      "      Successfully uninstalled numpy-1.26.4\n",
      "\u001b[31mERROR: pip's dependency resolver does not currently take into account all the packages that are installed. This behaviour is the source of the following dependency conflicts.\n",
      "gensim 4.3.3 requires numpy<2.0,>=1.18.5, but you have numpy 2.2.4 which is incompatible.\n",
      "tensorflow 2.18.0 requires numpy<2.1.0,>=1.26.0, but you have numpy 2.2.4 which is incompatible.\n",
      "numba 0.60.0 requires numpy<2.1,>=1.22, but you have numpy 2.2.4 which is incompatible.\u001b[0m\u001b[31m\n",
      "\u001b[0mSuccessfully installed numpy-2.2.4\n",
      "Requirement already satisfied: gensim in /usr/local/lib/python3.11/dist-packages (4.3.3)\n",
      "Collecting numpy<2.0,>=1.18.5 (from gensim)\n",
      "  Using cached numpy-1.26.4-cp311-cp311-manylinux_2_17_x86_64.manylinux2014_x86_64.whl.metadata (61 kB)\n",
      "Requirement already satisfied: scipy<1.14.0,>=1.7.0 in /usr/local/lib/python3.11/dist-packages (from gensim) (1.13.1)\n",
      "Requirement already satisfied: smart-open>=1.8.1 in /usr/local/lib/python3.11/dist-packages (from gensim) (7.1.0)\n",
      "Requirement already satisfied: wrapt in /usr/local/lib/python3.11/dist-packages (from smart-open>=1.8.1->gensim) (1.17.2)\n",
      "Using cached numpy-1.26.4-cp311-cp311-manylinux_2_17_x86_64.manylinux2014_x86_64.whl (18.3 MB)\n",
      "Installing collected packages: numpy\n",
      "  Attempting uninstall: numpy\n",
      "    Found existing installation: numpy 2.2.4\n",
      "    Uninstalling numpy-2.2.4:\n",
      "      Successfully uninstalled numpy-2.2.4\n",
      "\u001b[31mERROR: pip's dependency resolver does not currently take into account all the packages that are installed. This behaviour is the source of the following dependency conflicts.\n",
      "thinc 8.3.6 requires numpy<3.0.0,>=2.0.0, but you have numpy 1.26.4 which is incompatible.\u001b[0m\u001b[31m\n",
      "\u001b[0mSuccessfully installed numpy-1.26.4\n"
     ]
    }
   ],
   "source": [
    "!pip install --upgrade numpy\n",
    "!pip install --upgrade gensim"
   ]
  },
  {
   "cell_type": "code",
   "execution_count": null,
   "metadata": {
    "colab": {
     "base_uri": "https://localhost:8080/"
    },
    "id": "1fxp-Dq1DRSj",
    "outputId": "014c01b9-a1e6-4b90-8f2c-465c05aa54d2"
   },
   "outputs": [
    {
     "name": "stdout",
     "output_type": "stream",
     "text": [
      "🔹 Step 1: Loading datasets...\n",
      "   ↪ df_train shape: (1000, 3)\n",
      "   ↪ df_val shape: (50, 5)\n",
      "   ↪ df_test shape: (100, 3)\n",
      "🔹 Step 2: Cleaning text and adding SOS/EOS tokens...\n",
      "Sample clean_summary with SOS/EOS: sos who manufactures cetirizine? eos\n",
      "Tokenized summary: ['sos', 'who', 'manufactures', 'cetirizine', '?', 'eos']\n",
      "Sample clean_summary with SOS/EOS: sos should i leave a meniscus tear untreated if it does not cause problems? eos\n",
      "Tokenized summary: ['sos', 'should', 'i', 'leave', 'a', 'meniscus', 'tear', 'untreated', 'if', 'it', 'does', 'not', 'cause', 'problems', '?', 'eos']\n",
      "Sample clean_summary with SOS/EOS: sos how can i get rid of a lower lip birthmark permanently? eos\n",
      "Tokenized summary: ['sos', 'how', 'can', 'i', 'get', 'rid', 'of', 'a', 'lower', 'lip', 'birthmark', 'permanently', '?', 'eos']\n",
      "   ↪ Sample cleaned question: subject who and where to get cetirizine d message i needwant to know who manufscturs cetirizine my walmart is looking for a new supply and are not getting the recent\n",
      "   ↪ Sample tokenized question: ['subject', 'who', 'and', 'where', 'to', 'get', 'cetirizine', 'd', 'message', 'i', 'needwant', 'to', 'know', 'who', 'manufscturs', 'cetirizine', 'my', 'walmart', 'is', 'looking', 'for', 'a', 'new', 'supply', 'and', 'are', 'not', 'getting', 'the', 'recent']\n",
      "   ↪ Sample cleaned summary (with sos/eos): sos who manufactures cetirizine? eos\n",
      "   ↪ Sample tokenized summary: ['sos', 'who', 'manufactures', 'cetirizine', '?', 'eos']\n",
      "🔹 Step 3: Load or Train Word2Vec embeddings...\n",
      "   ✅ Loading frozen Word2Vec model...\n",
      "   ↪ Word2Vec vocabulary size: 8243\n",
      "🔹 Step 4: Tokenizing and padding sequences...\n",
      "   ↪ Tokenizer vocab size: 8222\n",
      "   ↪ Top 10 words: [('<OOV>', 1), ('i', 2), ('the', 3), ('and', 4), ('to', 5), ('is', 6), ('a', 7), ('for', 8), ('my', 9), ('of', 10)]\n",
      "\n",
      "🔍 Checking train set before padding...\n",
      "   🔸 Total summaries: 1000\n",
      "   🔸 Start with SOS: 1000\n",
      "   🔸 Contain EOS anywhere: 1000\n",
      "   🔸 EOS at END before fixing: 1000\n",
      "   🔸 Sample summary token IDs (first 2):\n",
      "      [11, 74, 2798, 2073, 1, 12, 0, 0, 0, 0, 0, 0, 0, 0, 0, 0, 0, 0, 0, 0, 0, 0, 0, 0, 0, 0, 0, 0, 0, 0]\n",
      "     ↪ SOS position: 0, EOS position: 5\n",
      "      [11, 74, 2798, 2075, 1, 12, 0, 0, 0, 0, 0, 0, 0, 0, 0, 0, 0, 0, 0, 0, 0, 0, 0, 0, 0, 0, 0, 0, 0, 0]\n",
      "     ↪ SOS position: 0, EOS position: 5\n",
      "\n",
      "🔍 Checking val set before padding...\n",
      "   🔸 Total summaries: 50\n",
      "   🔸 Start with SOS: 50\n",
      "   🔸 Contain EOS anywhere: 50\n",
      "   🔸 EOS at END before fixing: 50\n",
      "   🔸 Sample summary token IDs (first 2):\n",
      "      [11, 96, 2, 1249, 7, 1367, 1099, 978, 31, 17, 80, 30, 119, 210, 1, 12, 0, 0, 0, 0, 0, 0, 0, 0, 0, 0, 0, 0, 0, 0]\n",
      "     ↪ SOS position: 0, EOS position: 15\n",
      "      [11, 35, 16, 2, 43, 7, 497, 74, 70, 182, 9, 2806, 228, 1, 12, 0, 0, 0, 0, 0, 0, 0, 0, 0, 0, 0, 0, 0, 0, 0]\n",
      "     ↪ SOS position: 0, EOS position: 14\n",
      "\n",
      "🔍 Checking test set before padding...\n",
      "   🔸 Total summaries: 100\n",
      "   🔸 Start with SOS: 100\n",
      "   🔸 Contain EOS anywhere: 100\n",
      "   🔸 EOS at END before fixing: 100\n",
      "   🔸 Sample summary token IDs (first 2):\n",
      "      [11, 35, 16, 2, 56, 502, 10, 7, 365, 2450, 2750, 2429, 1, 12, 0, 0, 0, 0, 0, 0, 0, 0, 0, 0, 0, 0, 0, 0, 0, 0]\n",
      "     ↪ SOS position: 0, EOS position: 13\n",
      "      [11, 6, 1066, 4079, 457, 8, 206, 1, 12, 0, 0, 0, 0, 0, 0, 0, 0, 0, 0, 0, 0, 0, 0, 0, 0, 0, 0, 0, 0, 0]\n",
      "     ↪ SOS position: 0, EOS position: 8\n",
      "   ↪ X_train shape: (1000, 50)\n",
      "   ↪ y_train shape: (1000, 30)\n",
      "   ↪ Sample X_train[0]: [  20   74    4   52    5   56 2073  886   19    2 4163    5   49   74\n",
      " 4164 2073    9 4165    6  135    8    7  213 2074    4   18   30  211\n",
      "    3  812    0    0    0    0    0    0    0    0    0    0    0    0\n",
      "    0    0    0    0    0    0    0    0]\n",
      "   ↪ Sample y_train[0]: [  11   74 2798 2073    1   12    0    0    0    0    0    0    0    0\n",
      "    0    0    0    0    0    0    0    0    0    0    0    0    0    0\n",
      "    0    0]\n",
      "\n",
      "🔍 Quality Check on y_train:\n",
      "   - Total summaries: 1000\n",
      "   - Start with SOS: 1000\n",
      "   - Contain EOS: 1000\n",
      "   - EOS at end of sequence: 0\n",
      "   - Avg summary length: 13.04\n",
      "   - Max summary length allowed: 30\n",
      "🔹 Step 5: Building embedding matrix from Word2Vec...\n",
      "   ↪ Embedding matrix shape: (8222, 128)\n",
      "✅ Preprocessing complete.\n",
      "\n"
     ]
    }
   ],
   "source": [
    "from preprocessingword2vec import load_and_preprocess_data\n",
    "\n",
    "# File paths\n",
    "train_path = \"/content/MeQSum_ACL2019_BenAbacha_Demner-Fushman.xlsx\"\n",
    "val_path = \"/content/MEDIQA2021-Task1-QuestionSummarization-ValidationSet.xlsx\"\n",
    "test_path = \"/content/MEDIQA2021-Task1-TestSet-ReferenceSummaries.xlsx\"\n",
    "w2v_path = \"/content/w2v_frozen.model\"\n",
    "\n",
    "# Load and preprocess\n",
    "data = load_and_preprocess_data(train_path, val_path, test_path, w2v_path, max_len_s=30, embedding_dim=128)\n",
    "\n",
    "# 🔽 Extract everything for easy access\n",
    "X_train = data[\"X_train\"]\n",
    "y_train = data[\"y_train\"]\n",
    "X_val = data[\"X_val\"]\n",
    "y_val = data[\"y_val\"]\n",
    "X_test = data[\"X_test\"]\n",
    "y_test = data[\"y_test\"]\n",
    "tokenizer = data[\"tokenizer\"]\n",
    "vocab_size = data[\"vocab_size\"]\n",
    "max_len_q = data[\"max_len_q\"]\n",
    "max_len_s = data[\"max_len_s\"]\n",
    "embedding_matrix = data[\"embedding_matrix\"]"
   ]
  },
  {
   "cell_type": "code",
   "execution_count": null,
   "metadata": {
    "colab": {
     "base_uri": "https://localhost:8080/"
    },
    "id": "4fA3k07gKaly",
    "outputId": "3962e1f1-50f8-475d-a7ba-2b59be83e6dc"
   },
   "outputs": [
    {
     "name": "stdout",
     "output_type": "stream",
     "text": [
      "✅ Shapes of padded input sequences:\n",
      "X_train shape: (1000, 50)\n",
      "y_train shape: (1000, 30)\n",
      "X_val shape: (50, 50)\n",
      "y_val shape: (50, 30)\n",
      "X_test shape: (100, 50)\n",
      "y_test shape: (100, 30)\n",
      "\n",
      "✅ Vocabulary size: 8222\n",
      "✅ Max input length (question): 50\n",
      "✅ Max output length (summary): 30\n",
      "✅ Embedding matrix shape: (8222, 128)\n",
      "\n",
      "🧾 Sample tokenized input (X_train[0]): [  20   74    4   52    5   56 2073  886   19    2 4163    5   49   74\n",
      " 4164 2073    9 4165    6  135    8    7  213 2074    4   18   30  211\n",
      "    3  812    0    0    0    0    0    0    0    0    0    0    0    0\n",
      "    0    0    0    0    0    0    0    0]\n",
      "🧾 Sample target summary (y_train[0]): [  11   74 2798 2073    1   12    0    0    0    0    0    0    0    0\n",
      "    0    0    0    0    0    0    0    0    0    0    0    0    0    0\n",
      "    0    0]\n",
      "\n",
      "📘 Sample tokenizer words:\n",
      "[('<OOV>', 1), ('i', 2), ('the', 3), ('and', 4), ('to', 5), ('is', 6), ('a', 7), ('for', 8), ('my', 9), ('of', 10)]\n"
     ]
    }
   ],
   "source": [
    "print(\"✅ Shapes of padded input sequences:\")\n",
    "print(\"X_train shape:\", X_train.shape)\n",
    "print(\"y_train shape:\", y_train.shape)\n",
    "print(\"X_val shape:\", X_val.shape)\n",
    "print(\"y_val shape:\", y_val.shape)\n",
    "print(\"X_test shape:\", X_test.shape)\n",
    "print(\"y_test shape:\", y_test.shape)\n",
    "\n",
    "print(\"\\n✅ Vocabulary size:\", vocab_size)\n",
    "print(\"✅ Max input length (question):\", max_len_q)\n",
    "print(\"✅ Max output length (summary):\", max_len_s)\n",
    "print(\"✅ Embedding matrix shape:\", embedding_matrix.shape)\n",
    "\n",
    "# Preview some sequences\n",
    "print(\"\\n🧾 Sample tokenized input (X_train[0]):\", X_train[0])\n",
    "print(\"🧾 Sample target summary (y_train[0]):\", y_train[0])\n",
    "\n",
    "# Optional: Show a few words from tokenizer\n",
    "print(\"\\n📘 Sample tokenizer words:\")\n",
    "print(list(tokenizer.word_index.items())[:10])"
   ]
  },
  {
   "cell_type": "code",
   "execution_count": null,
   "metadata": {
    "id": "6sgEXVpoN53T"
   },
   "outputs": [],
   "source": [
    "from tensorflow.keras.models import Model\n",
    "from tensorflow.keras.layers import Input, Embedding, GRU, LSTM, Attention, TimeDistributed, Dense, Concatenate, Bidirectional\n",
    "import numpy as np\n",
    "\n",
    "def build_hybrid_gru_lstm_model(vocab_size, embedding_matrix, max_len_q, max_len_s, embedding_dim=128):\n",
    "    # Encoder\n",
    "    encoder_inputs = Input(shape=(max_len_q,), name=\"encoder_input\")\n",
    "    enc_emb = Embedding(input_dim=vocab_size, output_dim=embedding_dim,\n",
    "                        weights=[embedding_matrix], trainable=False, name=\"embedding\")(encoder_inputs)\n",
    "\n",
    "    encoder_outputs, forward_h, backward_h = Bidirectional(\n",
    "        GRU(256, return_sequences=True, return_state=True, dropout=0.3),\n",
    "        name=\"bidirectional_gru\"\n",
    "    )(enc_emb)\n",
    "\n",
    "    state_h = Concatenate(name=\"encoder_state\")([forward_h, backward_h])\n",
    "\n",
    "    # Decoder\n",
    "    decoder_inputs = Input(shape=(max_len_s,), name=\"decoder_input\")\n",
    "    dec_emb = Embedding(input_dim=vocab_size, output_dim=embedding_dim,\n",
    "                        weights=[embedding_matrix], trainable=False, name=\"decoder_embedding\")(decoder_inputs)\n",
    "\n",
    "    decoder_lstm = LSTM(512, return_sequences=True, return_state=True, dropout=0.3, name=\"decoder_lstm\")\n",
    "    decoder_outputs, _, _ = decoder_lstm(dec_emb, initial_state=[state_h, state_h])\n",
    "\n",
    "    # Attention\n",
    "    attention_layer = Attention(name=\"attention_layer\")\n",
    "    context_vector = attention_layer([decoder_outputs, encoder_outputs])\n",
    "\n",
    "    concat_context = Concatenate(axis=-1)([decoder_outputs, context_vector])\n",
    "\n",
    "    # Output\n",
    "    output = TimeDistributed(Dense(vocab_size, activation='softmax'), name=\"output_layer\")(concat_context)\n",
    "\n",
    "    # Define and compile\n",
    "    model = Model(inputs=[encoder_inputs, decoder_inputs], outputs=output)\n",
    "    model.compile(optimizer='adam', loss='sparse_categorical_crossentropy', metrics=['accuracy'])\n",
    "    model.summary()\n",
    "    return model\n"
   ]
  },
  {
   "cell_type": "code",
   "execution_count": null,
   "metadata": {
    "colab": {
     "base_uri": "https://localhost:8080/",
     "height": 661
    },
    "id": "XhCojQxQOJEG",
    "outputId": "d642c5f5-e034-4cc7-8796-d7d130270314"
   },
   "outputs": [
    {
     "data": {
      "text/html": [
       "<pre style=\"white-space:pre;overflow-x:auto;line-height:normal;font-family:Menlo,'DejaVu Sans Mono',consolas,'Courier New',monospace\"><span style=\"font-weight: bold\">Model: \"functional\"</span>\n",
       "</pre>\n"
      ],
      "text/plain": [
       "\u001b[1mModel: \"functional\"\u001b[0m\n"
      ]
     },
     "metadata": {},
     "output_type": "display_data"
    },
    {
     "data": {
      "text/html": [
       "<pre style=\"white-space:pre;overflow-x:auto;line-height:normal;font-family:Menlo,'DejaVu Sans Mono',consolas,'Courier New',monospace\">┏━━━━━━━━━━━━━━━━━━━━━┳━━━━━━━━━━━━━━━━━━━┳━━━━━━━━━━━━┳━━━━━━━━━━━━━━━━━━━┓\n",
       "┃<span style=\"font-weight: bold\"> Layer (type)        </span>┃<span style=\"font-weight: bold\"> Output Shape      </span>┃<span style=\"font-weight: bold\">    Param # </span>┃<span style=\"font-weight: bold\"> Connected to      </span>┃\n",
       "┡━━━━━━━━━━━━━━━━━━━━━╇━━━━━━━━━━━━━━━━━━━╇━━━━━━━━━━━━╇━━━━━━━━━━━━━━━━━━━┩\n",
       "│ encoder_input       │ (<span style=\"color: #00d7ff; text-decoration-color: #00d7ff\">None</span>, <span style=\"color: #00af00; text-decoration-color: #00af00\">50</span>)        │          <span style=\"color: #00af00; text-decoration-color: #00af00\">0</span> │ -                 │\n",
       "│ (<span style=\"color: #0087ff; text-decoration-color: #0087ff\">InputLayer</span>)        │                   │            │                   │\n",
       "├─────────────────────┼───────────────────┼────────────┼───────────────────┤\n",
       "│ embedding           │ (<span style=\"color: #00d7ff; text-decoration-color: #00d7ff\">None</span>, <span style=\"color: #00af00; text-decoration-color: #00af00\">50</span>, <span style=\"color: #00af00; text-decoration-color: #00af00\">128</span>)   │  <span style=\"color: #00af00; text-decoration-color: #00af00\">1,052,416</span> │ encoder_input[<span style=\"color: #00af00; text-decoration-color: #00af00\">0</span>]… │\n",
       "│ (<span style=\"color: #0087ff; text-decoration-color: #0087ff\">Embedding</span>)         │                   │            │                   │\n",
       "├─────────────────────┼───────────────────┼────────────┼───────────────────┤\n",
       "│ decoder_input       │ (<span style=\"color: #00d7ff; text-decoration-color: #00d7ff\">None</span>, <span style=\"color: #00af00; text-decoration-color: #00af00\">30</span>)        │          <span style=\"color: #00af00; text-decoration-color: #00af00\">0</span> │ -                 │\n",
       "│ (<span style=\"color: #0087ff; text-decoration-color: #0087ff\">InputLayer</span>)        │                   │            │                   │\n",
       "├─────────────────────┼───────────────────┼────────────┼───────────────────┤\n",
       "│ bidirectional_gru   │ [(<span style=\"color: #00d7ff; text-decoration-color: #00d7ff\">None</span>, <span style=\"color: #00af00; text-decoration-color: #00af00\">50</span>, <span style=\"color: #00af00; text-decoration-color: #00af00\">512</span>), │    <span style=\"color: #00af00; text-decoration-color: #00af00\">592,896</span> │ embedding[<span style=\"color: #00af00; text-decoration-color: #00af00\">0</span>][<span style=\"color: #00af00; text-decoration-color: #00af00\">0</span>]   │\n",
       "│ (<span style=\"color: #0087ff; text-decoration-color: #0087ff\">Bidirectional</span>)     │ (<span style=\"color: #00d7ff; text-decoration-color: #00d7ff\">None</span>, <span style=\"color: #00af00; text-decoration-color: #00af00\">256</span>),      │            │                   │\n",
       "│                     │ (<span style=\"color: #00d7ff; text-decoration-color: #00d7ff\">None</span>, <span style=\"color: #00af00; text-decoration-color: #00af00\">256</span>)]      │            │                   │\n",
       "├─────────────────────┼───────────────────┼────────────┼───────────────────┤\n",
       "│ decoder_embedding   │ (<span style=\"color: #00d7ff; text-decoration-color: #00d7ff\">None</span>, <span style=\"color: #00af00; text-decoration-color: #00af00\">30</span>, <span style=\"color: #00af00; text-decoration-color: #00af00\">128</span>)   │  <span style=\"color: #00af00; text-decoration-color: #00af00\">1,052,416</span> │ decoder_input[<span style=\"color: #00af00; text-decoration-color: #00af00\">0</span>]… │\n",
       "│ (<span style=\"color: #0087ff; text-decoration-color: #0087ff\">Embedding</span>)         │                   │            │                   │\n",
       "├─────────────────────┼───────────────────┼────────────┼───────────────────┤\n",
       "│ encoder_state       │ (<span style=\"color: #00d7ff; text-decoration-color: #00d7ff\">None</span>, <span style=\"color: #00af00; text-decoration-color: #00af00\">512</span>)       │          <span style=\"color: #00af00; text-decoration-color: #00af00\">0</span> │ bidirectional_gr… │\n",
       "│ (<span style=\"color: #0087ff; text-decoration-color: #0087ff\">Concatenate</span>)       │                   │            │ bidirectional_gr… │\n",
       "├─────────────────────┼───────────────────┼────────────┼───────────────────┤\n",
       "│ decoder_lstm (<span style=\"color: #0087ff; text-decoration-color: #0087ff\">LSTM</span>) │ [(<span style=\"color: #00d7ff; text-decoration-color: #00d7ff\">None</span>, <span style=\"color: #00af00; text-decoration-color: #00af00\">30</span>, <span style=\"color: #00af00; text-decoration-color: #00af00\">512</span>), │  <span style=\"color: #00af00; text-decoration-color: #00af00\">1,312,768</span> │ decoder_embeddin… │\n",
       "│                     │ (<span style=\"color: #00d7ff; text-decoration-color: #00d7ff\">None</span>, <span style=\"color: #00af00; text-decoration-color: #00af00\">512</span>),      │            │ encoder_state[<span style=\"color: #00af00; text-decoration-color: #00af00\">0</span>]… │\n",
       "│                     │ (<span style=\"color: #00d7ff; text-decoration-color: #00d7ff\">None</span>, <span style=\"color: #00af00; text-decoration-color: #00af00\">512</span>)]      │            │ encoder_state[<span style=\"color: #00af00; text-decoration-color: #00af00\">0</span>]… │\n",
       "├─────────────────────┼───────────────────┼────────────┼───────────────────┤\n",
       "│ attention_layer     │ (<span style=\"color: #00d7ff; text-decoration-color: #00d7ff\">None</span>, <span style=\"color: #00af00; text-decoration-color: #00af00\">30</span>, <span style=\"color: #00af00; text-decoration-color: #00af00\">512</span>)   │          <span style=\"color: #00af00; text-decoration-color: #00af00\">0</span> │ decoder_lstm[<span style=\"color: #00af00; text-decoration-color: #00af00\">0</span>][<span style=\"color: #00af00; text-decoration-color: #00af00\">…</span> │\n",
       "│ (<span style=\"color: #0087ff; text-decoration-color: #0087ff\">Attention</span>)         │                   │            │ bidirectional_gr… │\n",
       "├─────────────────────┼───────────────────┼────────────┼───────────────────┤\n",
       "│ concatenate         │ (<span style=\"color: #00d7ff; text-decoration-color: #00d7ff\">None</span>, <span style=\"color: #00af00; text-decoration-color: #00af00\">30</span>, <span style=\"color: #00af00; text-decoration-color: #00af00\">1024</span>)  │          <span style=\"color: #00af00; text-decoration-color: #00af00\">0</span> │ decoder_lstm[<span style=\"color: #00af00; text-decoration-color: #00af00\">0</span>][<span style=\"color: #00af00; text-decoration-color: #00af00\">…</span> │\n",
       "│ (<span style=\"color: #0087ff; text-decoration-color: #0087ff\">Concatenate</span>)       │                   │            │ attention_layer[<span style=\"color: #00af00; text-decoration-color: #00af00\">…</span> │\n",
       "├─────────────────────┼───────────────────┼────────────┼───────────────────┤\n",
       "│ output_layer        │ (<span style=\"color: #00d7ff; text-decoration-color: #00d7ff\">None</span>, <span style=\"color: #00af00; text-decoration-color: #00af00\">30</span>, <span style=\"color: #00af00; text-decoration-color: #00af00\">8222</span>)  │  <span style=\"color: #00af00; text-decoration-color: #00af00\">8,427,550</span> │ concatenate[<span style=\"color: #00af00; text-decoration-color: #00af00\">0</span>][<span style=\"color: #00af00; text-decoration-color: #00af00\">0</span>] │\n",
       "│ (<span style=\"color: #0087ff; text-decoration-color: #0087ff\">TimeDistributed</span>)   │                   │            │                   │\n",
       "└─────────────────────┴───────────────────┴────────────┴───────────────────┘\n",
       "</pre>\n"
      ],
      "text/plain": [
       "┏━━━━━━━━━━━━━━━━━━━━━┳━━━━━━━━━━━━━━━━━━━┳━━━━━━━━━━━━┳━━━━━━━━━━━━━━━━━━━┓\n",
       "┃\u001b[1m \u001b[0m\u001b[1mLayer (type)       \u001b[0m\u001b[1m \u001b[0m┃\u001b[1m \u001b[0m\u001b[1mOutput Shape     \u001b[0m\u001b[1m \u001b[0m┃\u001b[1m \u001b[0m\u001b[1m   Param #\u001b[0m\u001b[1m \u001b[0m┃\u001b[1m \u001b[0m\u001b[1mConnected to     \u001b[0m\u001b[1m \u001b[0m┃\n",
       "┡━━━━━━━━━━━━━━━━━━━━━╇━━━━━━━━━━━━━━━━━━━╇━━━━━━━━━━━━╇━━━━━━━━━━━━━━━━━━━┩\n",
       "│ encoder_input       │ (\u001b[38;5;45mNone\u001b[0m, \u001b[38;5;34m50\u001b[0m)        │          \u001b[38;5;34m0\u001b[0m │ -                 │\n",
       "│ (\u001b[38;5;33mInputLayer\u001b[0m)        │                   │            │                   │\n",
       "├─────────────────────┼───────────────────┼────────────┼───────────────────┤\n",
       "│ embedding           │ (\u001b[38;5;45mNone\u001b[0m, \u001b[38;5;34m50\u001b[0m, \u001b[38;5;34m128\u001b[0m)   │  \u001b[38;5;34m1,052,416\u001b[0m │ encoder_input[\u001b[38;5;34m0\u001b[0m]… │\n",
       "│ (\u001b[38;5;33mEmbedding\u001b[0m)         │                   │            │                   │\n",
       "├─────────────────────┼───────────────────┼────────────┼───────────────────┤\n",
       "│ decoder_input       │ (\u001b[38;5;45mNone\u001b[0m, \u001b[38;5;34m30\u001b[0m)        │          \u001b[38;5;34m0\u001b[0m │ -                 │\n",
       "│ (\u001b[38;5;33mInputLayer\u001b[0m)        │                   │            │                   │\n",
       "├─────────────────────┼───────────────────┼────────────┼───────────────────┤\n",
       "│ bidirectional_gru   │ [(\u001b[38;5;45mNone\u001b[0m, \u001b[38;5;34m50\u001b[0m, \u001b[38;5;34m512\u001b[0m), │    \u001b[38;5;34m592,896\u001b[0m │ embedding[\u001b[38;5;34m0\u001b[0m][\u001b[38;5;34m0\u001b[0m]   │\n",
       "│ (\u001b[38;5;33mBidirectional\u001b[0m)     │ (\u001b[38;5;45mNone\u001b[0m, \u001b[38;5;34m256\u001b[0m),      │            │                   │\n",
       "│                     │ (\u001b[38;5;45mNone\u001b[0m, \u001b[38;5;34m256\u001b[0m)]      │            │                   │\n",
       "├─────────────────────┼───────────────────┼────────────┼───────────────────┤\n",
       "│ decoder_embedding   │ (\u001b[38;5;45mNone\u001b[0m, \u001b[38;5;34m30\u001b[0m, \u001b[38;5;34m128\u001b[0m)   │  \u001b[38;5;34m1,052,416\u001b[0m │ decoder_input[\u001b[38;5;34m0\u001b[0m]… │\n",
       "│ (\u001b[38;5;33mEmbedding\u001b[0m)         │                   │            │                   │\n",
       "├─────────────────────┼───────────────────┼────────────┼───────────────────┤\n",
       "│ encoder_state       │ (\u001b[38;5;45mNone\u001b[0m, \u001b[38;5;34m512\u001b[0m)       │          \u001b[38;5;34m0\u001b[0m │ bidirectional_gr… │\n",
       "│ (\u001b[38;5;33mConcatenate\u001b[0m)       │                   │            │ bidirectional_gr… │\n",
       "├─────────────────────┼───────────────────┼────────────┼───────────────────┤\n",
       "│ decoder_lstm (\u001b[38;5;33mLSTM\u001b[0m) │ [(\u001b[38;5;45mNone\u001b[0m, \u001b[38;5;34m30\u001b[0m, \u001b[38;5;34m512\u001b[0m), │  \u001b[38;5;34m1,312,768\u001b[0m │ decoder_embeddin… │\n",
       "│                     │ (\u001b[38;5;45mNone\u001b[0m, \u001b[38;5;34m512\u001b[0m),      │            │ encoder_state[\u001b[38;5;34m0\u001b[0m]… │\n",
       "│                     │ (\u001b[38;5;45mNone\u001b[0m, \u001b[38;5;34m512\u001b[0m)]      │            │ encoder_state[\u001b[38;5;34m0\u001b[0m]… │\n",
       "├─────────────────────┼───────────────────┼────────────┼───────────────────┤\n",
       "│ attention_layer     │ (\u001b[38;5;45mNone\u001b[0m, \u001b[38;5;34m30\u001b[0m, \u001b[38;5;34m512\u001b[0m)   │          \u001b[38;5;34m0\u001b[0m │ decoder_lstm[\u001b[38;5;34m0\u001b[0m][\u001b[38;5;34m…\u001b[0m │\n",
       "│ (\u001b[38;5;33mAttention\u001b[0m)         │                   │            │ bidirectional_gr… │\n",
       "├─────────────────────┼───────────────────┼────────────┼───────────────────┤\n",
       "│ concatenate         │ (\u001b[38;5;45mNone\u001b[0m, \u001b[38;5;34m30\u001b[0m, \u001b[38;5;34m1024\u001b[0m)  │          \u001b[38;5;34m0\u001b[0m │ decoder_lstm[\u001b[38;5;34m0\u001b[0m][\u001b[38;5;34m…\u001b[0m │\n",
       "│ (\u001b[38;5;33mConcatenate\u001b[0m)       │                   │            │ attention_layer[\u001b[38;5;34m…\u001b[0m │\n",
       "├─────────────────────┼───────────────────┼────────────┼───────────────────┤\n",
       "│ output_layer        │ (\u001b[38;5;45mNone\u001b[0m, \u001b[38;5;34m30\u001b[0m, \u001b[38;5;34m8222\u001b[0m)  │  \u001b[38;5;34m8,427,550\u001b[0m │ concatenate[\u001b[38;5;34m0\u001b[0m][\u001b[38;5;34m0\u001b[0m] │\n",
       "│ (\u001b[38;5;33mTimeDistributed\u001b[0m)   │                   │            │                   │\n",
       "└─────────────────────┴───────────────────┴────────────┴───────────────────┘\n"
      ]
     },
     "metadata": {},
     "output_type": "display_data"
    },
    {
     "data": {
      "text/html": [
       "<pre style=\"white-space:pre;overflow-x:auto;line-height:normal;font-family:Menlo,'DejaVu Sans Mono',consolas,'Courier New',monospace\"><span style=\"font-weight: bold\"> Total params: </span><span style=\"color: #00af00; text-decoration-color: #00af00\">12,438,046</span> (47.45 MB)\n",
       "</pre>\n"
      ],
      "text/plain": [
       "\u001b[1m Total params: \u001b[0m\u001b[38;5;34m12,438,046\u001b[0m (47.45 MB)\n"
      ]
     },
     "metadata": {},
     "output_type": "display_data"
    },
    {
     "data": {
      "text/html": [
       "<pre style=\"white-space:pre;overflow-x:auto;line-height:normal;font-family:Menlo,'DejaVu Sans Mono',consolas,'Courier New',monospace\"><span style=\"font-weight: bold\"> Trainable params: </span><span style=\"color: #00af00; text-decoration-color: #00af00\">10,333,214</span> (39.42 MB)\n",
       "</pre>\n"
      ],
      "text/plain": [
       "\u001b[1m Trainable params: \u001b[0m\u001b[38;5;34m10,333,214\u001b[0m (39.42 MB)\n"
      ]
     },
     "metadata": {},
     "output_type": "display_data"
    },
    {
     "data": {
      "text/html": [
       "<pre style=\"white-space:pre;overflow-x:auto;line-height:normal;font-family:Menlo,'DejaVu Sans Mono',consolas,'Courier New',monospace\"><span style=\"font-weight: bold\"> Non-trainable params: </span><span style=\"color: #00af00; text-decoration-color: #00af00\">2,104,832</span> (8.03 MB)\n",
       "</pre>\n"
      ],
      "text/plain": [
       "\u001b[1m Non-trainable params: \u001b[0m\u001b[38;5;34m2,104,832\u001b[0m (8.03 MB)\n"
      ]
     },
     "metadata": {},
     "output_type": "display_data"
    }
   ],
   "source": [
    "model = build_hybrid_gru_lstm_model(\n",
    "    vocab_size=data['vocab_size'],\n",
    "    embedding_matrix=data['embedding_matrix'],\n",
    "    max_len_q=data['max_len_q'],\n",
    "    max_len_s=data['max_len_s'],\n",
    "    embedding_dim=128\n",
    ")\n"
   ]
  },
  {
   "cell_type": "code",
   "execution_count": null,
   "metadata": {
    "id": "AlG3MWlCQPmo"
   },
   "outputs": [],
   "source": [
    "# Ensure TensorFlow is using eager execution:\n",
    "import tensorflow as tf\n",
    "tf.config.run_functions_eagerly(True)"
   ]
  },
  {
   "cell_type": "code",
   "execution_count": null,
   "metadata": {
    "colab": {
     "base_uri": "https://localhost:8080/"
    },
    "id": "oyGmjcldQVBB",
    "outputId": "65477711-e029-45f6-f210-d56a13baa697"
   },
   "outputs": [
    {
     "name": "stdout",
     "output_type": "stream",
     "text": [
      "y_train shape for training: (1000, 30, 1)\n",
      "y_val shape for validation: (50, 30, 1)\n",
      "Epoch 1/20\n"
     ]
    },
    {
     "name": "stderr",
     "output_type": "stream",
     "text": [
      "/usr/local/lib/python3.11/dist-packages/tensorflow/python/data/ops/structured_function.py:258: UserWarning: Even though the `tf.config.experimental_run_functions_eagerly` option is set, this option does not apply to tf.data functions. To force eager execution of tf.data functions, please use `tf.data.experimental.enable_debug_mode()`.\n",
      "  warnings.warn(\n"
     ]
    },
    {
     "name": "stdout",
     "output_type": "stream",
     "text": [
      "\u001b[1m16/16\u001b[0m \u001b[32m━━━━━━━━━━━━━━━━━━━━\u001b[0m\u001b[37m\u001b[0m \u001b[1m29s\u001b[0m 2s/step - accuracy: 0.4521 - loss: 6.1697 - val_accuracy: 0.6220 - val_loss: 3.0789\n",
      "Epoch 2/20\n",
      "\u001b[1m16/16\u001b[0m \u001b[32m━━━━━━━━━━━━━━━━━━━━\u001b[0m\u001b[37m\u001b[0m \u001b[1m25s\u001b[0m 2s/step - accuracy: 0.6013 - loss: 2.5275 - val_accuracy: 0.6680 - val_loss: 2.4898\n",
      "Epoch 3/20\n",
      "\u001b[1m16/16\u001b[0m \u001b[32m━━━━━━━━━━━━━━━━━━━━\u001b[0m\u001b[37m\u001b[0m \u001b[1m25s\u001b[0m 2s/step - accuracy: 0.6577 - loss: 2.0866 - val_accuracy: 0.7080 - val_loss: 2.1194\n",
      "Epoch 4/20\n",
      "\u001b[1m16/16\u001b[0m \u001b[32m━━━━━━━━━━━━━━━━━━━━\u001b[0m\u001b[37m\u001b[0m \u001b[1m24s\u001b[0m 2s/step - accuracy: 0.7158 - loss: 1.8064 - val_accuracy: 0.7173 - val_loss: 1.9833\n",
      "Epoch 5/20\n",
      "\u001b[1m16/16\u001b[0m \u001b[32m━━━━━━━━━━━━━━━━━━━━\u001b[0m\u001b[37m\u001b[0m \u001b[1m24s\u001b[0m 2s/step - accuracy: 0.7255 - loss: 1.6436 - val_accuracy: 0.7207 - val_loss: 1.9336\n",
      "Epoch 6/20\n",
      "\u001b[1m16/16\u001b[0m \u001b[32m━━━━━━━━━━━━━━━━━━━━\u001b[0m\u001b[37m\u001b[0m \u001b[1m24s\u001b[0m 2s/step - accuracy: 0.7401 - loss: 1.5032 - val_accuracy: 0.7220 - val_loss: 1.8979\n",
      "Epoch 7/20\n",
      "\u001b[1m16/16\u001b[0m \u001b[32m━━━━━━━━━━━━━━━━━━━━\u001b[0m\u001b[37m\u001b[0m \u001b[1m25s\u001b[0m 2s/step - accuracy: 0.7523 - loss: 1.4283 - val_accuracy: 0.7347 - val_loss: 1.8729\n",
      "Epoch 8/20\n",
      "\u001b[1m16/16\u001b[0m \u001b[32m━━━━━━━━━━━━━━━━━━━━\u001b[0m\u001b[37m\u001b[0m \u001b[1m24s\u001b[0m 2s/step - accuracy: 0.7739 - loss: 1.3247 - val_accuracy: 0.7380 - val_loss: 1.8432\n",
      "Epoch 9/20\n",
      "\u001b[1m16/16\u001b[0m \u001b[32m━━━━━━━━━━━━━━━━━━━━\u001b[0m\u001b[37m\u001b[0m \u001b[1m24s\u001b[0m 2s/step - accuracy: 0.7790 - loss: 1.2560 - val_accuracy: 0.7380 - val_loss: 1.8283\n",
      "Epoch 10/20\n",
      "\u001b[1m16/16\u001b[0m \u001b[32m━━━━━━━━━━━━━━━━━━━━\u001b[0m\u001b[37m\u001b[0m \u001b[1m25s\u001b[0m 2s/step - accuracy: 0.7819 - loss: 1.2006 - val_accuracy: 0.7460 - val_loss: 1.8079\n",
      "Epoch 11/20\n",
      "\u001b[1m16/16\u001b[0m \u001b[32m━━━━━━━━━━━━━━━━━━━━\u001b[0m\u001b[37m\u001b[0m \u001b[1m24s\u001b[0m 2s/step - accuracy: 0.7833 - loss: 1.1508 - val_accuracy: 0.7507 - val_loss: 1.8129\n",
      "Epoch 12/20\n",
      "\u001b[1m16/16\u001b[0m \u001b[32m━━━━━━━━━━━━━━━━━━━━\u001b[0m\u001b[37m\u001b[0m \u001b[1m25s\u001b[0m 2s/step - accuracy: 0.7951 - loss: 1.0717 - val_accuracy: 0.7553 - val_loss: 1.7984\n",
      "Epoch 13/20\n",
      "\u001b[1m16/16\u001b[0m \u001b[32m━━━━━━━━━━━━━━━━━━━━\u001b[0m\u001b[37m\u001b[0m \u001b[1m25s\u001b[0m 2s/step - accuracy: 0.7992 - loss: 1.0166 - val_accuracy: 0.7587 - val_loss: 1.8062\n",
      "Epoch 14/20\n",
      "\u001b[1m16/16\u001b[0m \u001b[32m━━━━━━━━━━━━━━━━━━━━\u001b[0m\u001b[37m\u001b[0m \u001b[1m25s\u001b[0m 2s/step - accuracy: 0.8045 - loss: 0.9798 - val_accuracy: 0.7700 - val_loss: 1.8191\n",
      "Epoch 15/20\n",
      "\u001b[1m16/16\u001b[0m \u001b[32m━━━━━━━━━━━━━━━━━━━━\u001b[0m\u001b[37m\u001b[0m \u001b[1m25s\u001b[0m 2s/step - accuracy: 0.8073 - loss: 0.9362 - val_accuracy: 0.7733 - val_loss: 1.8223\n"
     ]
    }
   ],
   "source": [
    "# Reshape y_train and y_val to (samples, sequence_length, 1)\n",
    "y_train_input = y_train.reshape((y_train.shape[0], y_train.shape[1], 1))\n",
    "y_val_input = y_val.reshape((y_val.shape[0], y_val.shape[1], 1))\n",
    "\n",
    "# Print to verify shape\n",
    "print(\"y_train shape for training:\", y_train_input.shape)\n",
    "print(\"y_val shape for validation:\", y_val_input.shape)\n",
    "\n",
    "from tensorflow.keras.callbacks import EarlyStopping\n",
    "\n",
    "early_stop = EarlyStopping(\n",
    "    monitor='val_loss',       # Watch validation loss\n",
    "    patience=3,               # Wait 3 epochs before stopping\n",
    "    restore_best_weights=True\n",
    ")\n",
    "\n",
    "history = model.fit(\n",
    "    [X_train, y_train[:, :data['max_len_s']]],\n",
    "    y_train_input[:, :data['max_len_s']],\n",
    "    validation_data=([X_val, y_val], y_val_input),\n",
    "    batch_size=64,\n",
    "    epochs=20,\n",
    "    callbacks=[early_stop]\n",
    ")"
   ]
  },
  {
   "cell_type": "code",
   "execution_count": null,
   "metadata": {
    "colab": {
     "base_uri": "https://localhost:8080/",
     "height": 472
    },
    "id": "xh9lACw0Q8aA",
    "outputId": "ec74519d-98c1-4b4d-f8d4-fa4d01dc6855"
   },
   "outputs": [
    {
     "data": {
      "image/png": "[encoded data removed]",
      "text/plain": [
       "<Figure size 640x480 with 1 Axes>"
      ]
     },
     "metadata": {},
     "output_type": "display_data"
    }
   ],
   "source": [
    "import matplotlib.pyplot as plt\n",
    "\n",
    "# Plot loss curves\n",
    "plt.plot(history.history['loss'], label='Training Loss')\n",
    "plt.plot(history.history['val_loss'], label='Validation Loss')\n",
    "plt.title('Model Loss Over Epochs')\n",
    "plt.xlabel('Epoch')\n",
    "plt.ylabel('Loss')\n",
    "plt.legend()\n",
    "plt.grid(True)\n",
    "plt.show()"
   ]
  },
  {
   "cell_type": "code",
   "execution_count": null,
   "metadata": {
    "id": "sNoLDQLrSq46"
   },
   "outputs": [],
   "source": [
    "def beam_search_decode(input_seq, model, tokenizer, beam_width=4, max_len=30):\n",
    "    reverse_word_index = {idx: word for word, idx in tokenizer.word_index.items()}\n",
    "    start_token = tokenizer.word_index.get('sos', 1)\n",
    "    end_token = tokenizer.word_index.get('eos', 2)\n",
    "\n",
    "    # Start sequence with <sos>\n",
    "    sequences = [[[start_token], 0.0]]  # (token_list, score)\n",
    "\n",
    "    for _ in range(max_len):\n",
    "        all_candidates = []\n",
    "        for seq, score in sequences:\n",
    "            # Pad decoder input sequence to max_len\n",
    "            decoder_input = tf.keras.preprocessing.sequence.pad_sequences([seq], maxlen=max_len, padding='post')\n",
    "\n",
    "            # Predict next token probability distribution\n",
    "            preds = model.predict([input_seq, decoder_input], verbose=0)\n",
    "            #preds, attn_weights = model.predict([input_seq, decoder_input], verbose=0)\n",
    "            next_token_probs = preds[0, len(seq)-1]  # Get the next token distribution\n",
    "\n",
    "            # Get top-k token IDs\n",
    "            top_token_ids = next_token_probs.argsort()[-beam_width:][::-1]\n",
    "\n",
    "            # ✅ Print token ID, word, and probability\n",
    "            #print(f\"\\nStep {_+1}:\")\n",
    "            #print(\"Top candidate tokens and scores:\")\n",
    "            for tok_id in top_token_ids:\n",
    "                word = reverse_word_index.get(tok_id, '<UNK>')\n",
    "                prob = next_token_probs[tok_id]\n",
    "                #print(f\"  {tok_id:>4} → {word:<15} | Probability: {prob:.4f}\")\n",
    "\n",
    "            for token_id in top_token_ids:\n",
    "                candidate_seq = seq + [token_id]\n",
    "                candidate_score = score - np.log(next_token_probs[token_id] + 1e-7)\n",
    "\n",
    "                # 🔁 Repetition penalty: discourage repeating the same word\n",
    "                if token_id in seq:\n",
    "                    candidate_score += 3.0  # You can increase this penalty if needed\n",
    "\n",
    "                # If <eos> is predicted, stop adding further\n",
    "                if token_id == end_token:\n",
    "                    all_candidates.append((candidate_seq, candidate_score))\n",
    "                else:\n",
    "                    all_candidates.append((candidate_seq, candidate_score))\n",
    "\n",
    "        # Keep top-k best sequences\n",
    "        sequences = sorted(all_candidates, key=lambda tup: tup[1])[:beam_width]\n",
    "\n",
    "        # Early stopping if all sequences ended with <eos>\n",
    "        if all(seq[-1] == end_token for seq, _ in sequences):\n",
    "            break\n",
    "\n",
    "    # Choose best sequence\n",
    "    best_sequence = sequences[0][0]\n",
    "    #print(\"Predicted token IDs:\", best_sequence)\n",
    "    # Convert to text excluding special tokens\n",
    "    decoded_summary = ' '.join([reverse_word_index.get(tok, '') for tok in best_sequence\n",
    "                                if tok not in [0, start_token, end_token]])\n",
    "    return decoded_summary.strip()"
   ]
  },
  {
   "cell_type": "code",
   "execution_count": null,
   "metadata": {
    "colab": {
     "base_uri": "https://localhost:8080/"
    },
    "id": "9gRLJXaiK4-w",
    "outputId": "8b1e332a-fcce-4937-d06d-4aa7edd09a1a"
   },
   "outputs": [
    {
     "name": "stdout",
     "output_type": "stream",
     "text": [
      "\n",
      "🔹 Example 1\n",
      "📝 Original Question : 23 surgeries and countinglower lip birthmark have tried all options out the there and guess what still have it continues to grow backany suggestions <OOV> is there a cure coming in the next few years hopefully <OOV>\n",
      "✅ Actual Summary    : how can i get rid of a lower lip birthmark permanently\n",
      "🤖 Predicted Summary : what are the for of and a it i can find treatment find\n",
      "\n",
      "🔹 Example 2\n",
      "📝 Original Question : worry that magnesium silicofluoride treatment of moth infestation of a large living room rug will be harmful to my health is this true <OOV> if the rug is treated in house how long before any toxic fumes or skin contact would be a hazard appreciate any help you could provide\n",
      "✅ Actual Summary    : is magnesium silicofluoride safe for people\n",
      "🤖 Predicted Summary : what are the for of and a it i can i can find information find\n",
      "\n",
      "🔹 Example 3\n",
      "📝 Original Question : could you please help me out and let me know if there is any research on the effect of rogam on the baby of the rh person <OOV> are there higher rates of mental illnesses in them or other health issues <OOV> i would really appreciate any information thank you\n",
      "✅ Actual Summary    : could rhogam damage the baby\n",
      "🤖 Predicted Summary : what are the for of and a it can i can find treatment find i can i can i can i can i can i can i\n"
     ]
    }
   ],
   "source": [
    "import numpy as np\n",
    "\n",
    "# 🔁 Helper function to convert token IDs back to words\n",
    "def decode_sequence(sequence, tokenizer):\n",
    "    reverse_word_index = {idx: word for word, idx in tokenizer.word_index.items()}\n",
    "    decoded_words = [reverse_word_index.get(idx, '') for idx in sequence if idx != 0]\n",
    "    return ' '.join(decoded_words)\n",
    "\n",
    "# Helper: Remove consecutive repeated words\n",
    "def remove_repeated_words(text):\n",
    "    words = text.split()\n",
    "    filtered = [words[0]] if words else []\n",
    "    for i in range(1, len(words)):\n",
    "        if words[i] != words[i - 1]:\n",
    "            filtered.append(words[i])\n",
    "    return ' '.join(filtered)\n",
    "\n",
    "# Special tokens to remove\n",
    "sos_token = \"sos\"\n",
    "eos_token = \"eos\"\n",
    "\n",
    "# 🔍 Predict and compare summaries for a few test examples\n",
    "for i in range(3):\n",
    "    input_seq = X_test[i:i+1]\n",
    "    target_seq = y_test[i]\n",
    "\n",
    "    input_text = decode_sequence(input_seq[0], tokenizer)\n",
    "    actual_summary = decode_sequence(target_seq, tokenizer)\n",
    "    predicted_summary = beam_search_decode(input_seq, model, tokenizer, beam_width=4)\n",
    "\n",
    "    # Remove 'sos' and 'eos' from actual summary\n",
    "    clean_actual_summary = ' '.join([word for word in actual_summary.split() if word not in [sos_token, eos_token]])\n",
    "    clean_actual_summary = ' '.join([w for w in actual_summary.split() if w not in [sos_token, eos_token, \"<OOV>\"]])\n",
    "\n",
    "    # Remove consecutive repeats\n",
    "    # To improve readability and evaluation quality, I applied a post-processing step to remove consecutive repeated words in predicted summaries.\n",
    "    # This does not alter the core model logic and is a standard technique to clean decoder outputs.\n",
    "    predicted_summary = remove_repeated_words(predicted_summary)\n",
    "\n",
    "    print(f\"\\n🔹 Example {i+1}\")\n",
    "    print(\"📝 Original Question :\", input_text)\n",
    "    print(\"✅ Actual Summary    :\", clean_actual_summary)\n",
    "    print(\"🤖 Predicted Summary :\", predicted_summary)"
   ]
  },
  {
   "cell_type": "code",
   "execution_count": null,
   "metadata": {
    "colab": {
     "base_uri": "https://localhost:8080/"
    },
    "id": "pd9epFo0cpwG",
    "outputId": "3770f7a7-d1c1-4a0c-eb22-da159af6ba50"
   },
   "outputs": [
    {
     "name": "stdout",
     "output_type": "stream",
     "text": [
      "Requirement already satisfied: bert-score in /usr/local/lib/python3.11/dist-packages (0.3.13)\n",
      "Requirement already satisfied: torch>=1.0.0 in /usr/local/lib/python3.11/dist-packages (from bert-score) (2.6.0+cu124)\n",
      "Requirement already satisfied: pandas>=1.0.1 in /usr/local/lib/python3.11/dist-packages (from bert-score) (2.2.2)\n",
      "Requirement already satisfied: transformers>=3.0.0 in /usr/local/lib/python3.11/dist-packages (from bert-score) (4.51.3)\n",
      "Requirement already satisfied: numpy in /usr/local/lib/python3.11/dist-packages (from bert-score) (1.26.4)\n",
      "Requirement already satisfied: requests in /usr/local/lib/python3.11/dist-packages (from bert-score) (2.32.3)\n",
      "Requirement already satisfied: tqdm>=4.31.1 in /usr/local/lib/python3.11/dist-packages (from bert-score) (4.67.1)\n",
      "Requirement already satisfied: matplotlib in /usr/local/lib/python3.11/dist-packages (from bert-score) (3.10.0)\n",
      "Requirement already satisfied: packaging>=20.9 in /usr/local/lib/python3.11/dist-packages (from bert-score) (24.2)\n",
      "Requirement already satisfied: python-dateutil>=2.8.2 in /usr/local/lib/python3.11/dist-packages (from pandas>=1.0.1->bert-score) (2.8.2)\n",
      "Requirement already satisfied: pytz>=2020.1 in /usr/local/lib/python3.11/dist-packages (from pandas>=1.0.1->bert-score) (2025.2)\n",
      "Requirement already satisfied: tzdata>=2022.7 in /usr/local/lib/python3.11/dist-packages (from pandas>=1.0.1->bert-score) (2025.2)\n",
      "Requirement already satisfied: filelock in /usr/local/lib/python3.11/dist-packages (from torch>=1.0.0->bert-score) (3.18.0)\n",
      "Requirement already satisfied: typing-extensions>=4.10.0 in /usr/local/lib/python3.11/dist-packages (from torch>=1.0.0->bert-score) (4.13.2)\n",
      "Requirement already satisfied: networkx in /usr/local/lib/python3.11/dist-packages (from torch>=1.0.0->bert-score) (3.4.2)\n",
      "Requirement already satisfied: jinja2 in /usr/local/lib/python3.11/dist-packages (from torch>=1.0.0->bert-score) (3.1.6)\n",
      "Requirement already satisfied: fsspec in /usr/local/lib/python3.11/dist-packages (from torch>=1.0.0->bert-score) (2025.3.2)\n",
      "Requirement already satisfied: nvidia-cuda-nvrtc-cu12==12.4.127 in /usr/local/lib/python3.11/dist-packages (from torch>=1.0.0->bert-score) (12.4.127)\n",
      "Requirement already satisfied: nvidia-cuda-runtime-cu12==12.4.127 in /usr/local/lib/python3.11/dist-packages (from torch>=1.0.0->bert-score) (12.4.127)\n",
      "Requirement already satisfied: nvidia-cuda-cupti-cu12==12.4.127 in /usr/local/lib/python3.11/dist-packages (from torch>=1.0.0->bert-score) (12.4.127)\n",
      "Requirement already satisfied: nvidia-cudnn-cu12==9.1.0.70 in /usr/local/lib/python3.11/dist-packages (from torch>=1.0.0->bert-score) (9.1.0.70)\n",
      "Requirement already satisfied: nvidia-cublas-cu12==12.4.5.8 in /usr/local/lib/python3.11/dist-packages (from torch>=1.0.0->bert-score) (12.4.5.8)\n",
      "Requirement already satisfied: nvidia-cufft-cu12==11.2.1.3 in /usr/local/lib/python3.11/dist-packages (from torch>=1.0.0->bert-score) (11.2.1.3)\n",
      "Requirement already satisfied: nvidia-curand-cu12==10.3.5.147 in /usr/local/lib/python3.11/dist-packages (from torch>=1.0.0->bert-score) (10.3.5.147)\n",
      "Requirement already satisfied: nvidia-cusolver-cu12==11.6.1.9 in /usr/local/lib/python3.11/dist-packages (from torch>=1.0.0->bert-score) (11.6.1.9)\n",
      "Requirement already satisfied: nvidia-cusparse-cu12==12.3.1.170 in /usr/local/lib/python3.11/dist-packages (from torch>=1.0.0->bert-score) (12.3.1.170)\n",
      "Requirement already satisfied: nvidia-cusparselt-cu12==0.6.2 in /usr/local/lib/python3.11/dist-packages (from torch>=1.0.0->bert-score) (0.6.2)\n",
      "Requirement already satisfied: nvidia-nccl-cu12==2.21.5 in /usr/local/lib/python3.11/dist-packages (from torch>=1.0.0->bert-score) (2.21.5)\n",
      "Requirement already satisfied: nvidia-nvtx-cu12==12.4.127 in /usr/local/lib/python3.11/dist-packages (from torch>=1.0.0->bert-score) (12.4.127)\n",
      "Requirement already satisfied: nvidia-nvjitlink-cu12==12.4.127 in /usr/local/lib/python3.11/dist-packages (from torch>=1.0.0->bert-score) (12.4.127)\n",
      "Requirement already satisfied: triton==3.2.0 in /usr/local/lib/python3.11/dist-packages (from torch>=1.0.0->bert-score) (3.2.0)\n",
      "Requirement already satisfied: sympy==1.13.1 in /usr/local/lib/python3.11/dist-packages (from torch>=1.0.0->bert-score) (1.13.1)\n",
      "Requirement already satisfied: mpmath<1.4,>=1.1.0 in /usr/local/lib/python3.11/dist-packages (from sympy==1.13.1->torch>=1.0.0->bert-score) (1.3.0)\n",
      "Requirement already satisfied: huggingface-hub<1.0,>=0.30.0 in /usr/local/lib/python3.11/dist-packages (from transformers>=3.0.0->bert-score) (0.30.2)\n",
      "Requirement already satisfied: pyyaml>=5.1 in /usr/local/lib/python3.11/dist-packages (from transformers>=3.0.0->bert-score) (6.0.2)\n",
      "Requirement already satisfied: regex!=2019.12.17 in /usr/local/lib/python3.11/dist-packages (from transformers>=3.0.0->bert-score) (2024.11.6)\n",
      "Requirement already satisfied: tokenizers<0.22,>=0.21 in /usr/local/lib/python3.11/dist-packages (from transformers>=3.0.0->bert-score) (0.21.1)\n",
      "Requirement already satisfied: safetensors>=0.4.3 in /usr/local/lib/python3.11/dist-packages (from transformers>=3.0.0->bert-score) (0.5.3)\n",
      "Requirement already satisfied: contourpy>=1.0.1 in /usr/local/lib/python3.11/dist-packages (from matplotlib->bert-score) (1.3.2)\n",
      "Requirement already satisfied: cycler>=0.10 in /usr/local/lib/python3.11/dist-packages (from matplotlib->bert-score) (0.12.1)\n",
      "Requirement already satisfied: fonttools>=4.22.0 in /usr/local/lib/python3.11/dist-packages (from matplotlib->bert-score) (4.57.0)\n",
      "Requirement already satisfied: kiwisolver>=1.3.1 in /usr/local/lib/python3.11/dist-packages (from matplotlib->bert-score) (1.4.8)\n",
      "Requirement already satisfied: pillow>=8 in /usr/local/lib/python3.11/dist-packages (from matplotlib->bert-score) (11.1.0)\n",
      "Requirement already satisfied: pyparsing>=2.3.1 in /usr/local/lib/python3.11/dist-packages (from matplotlib->bert-score) (3.2.3)\n",
      "Requirement already satisfied: charset-normalizer<4,>=2 in /usr/local/lib/python3.11/dist-packages (from requests->bert-score) (3.4.1)\n",
      "Requirement already satisfied: idna<4,>=2.5 in /usr/local/lib/python3.11/dist-packages (from requests->bert-score) (3.10)\n",
      "Requirement already satisfied: urllib3<3,>=1.21.1 in /usr/local/lib/python3.11/dist-packages (from requests->bert-score) (2.3.0)\n",
      "Requirement already satisfied: certifi>=2017.4.17 in /usr/local/lib/python3.11/dist-packages (from requests->bert-score) (2025.1.31)\n",
      "Requirement already satisfied: six>=1.5 in /usr/local/lib/python3.11/dist-packages (from python-dateutil>=2.8.2->pandas>=1.0.1->bert-score) (1.17.0)\n",
      "Requirement already satisfied: MarkupSafe>=2.0 in /usr/local/lib/python3.11/dist-packages (from jinja2->torch>=1.0.0->bert-score) (3.0.2)\n"
     ]
    }
   ],
   "source": [
    "# ✅ Install and import\n",
    "!pip install bert-score\n"
   ]
  },
  {
   "cell_type": "code",
   "execution_count": null,
   "metadata": {
    "colab": {
     "base_uri": "https://localhost:8080/",
     "height": 623,
     "referenced_widgets": [
      "9cd6cf50b8ab414e80b6e9ffe3ebb011",
      "3c9a095db7e6450ea28c99c870746b25",
      "2034c16c58e644a9bb748c9c8e6585b5",
      "c73b67fa6c1143ba91f294b7ea84027b",
      "e00cfc6189f3496c80bb351d6d8054c0",
      "f750717620494beca6e1e9e41a57f72d",
      "0dd1ab8cce7b451489dc39d7d5bb858f",
      "bbb2bebc4f4541ff9b122e51d01543ba"
     ]
    },
    "id": "O6KYMZzRcmB0",
    "outputId": "2e75a48c-2624-4088-a21b-5a3b5b0391e8"
   },
   "outputs": [
    {
     "name": "stderr",
     "output_type": "stream",
     "text": [
      "/usr/local/lib/python3.11/dist-packages/huggingface_hub/utils/_auth.py:94: UserWarning: \n",
      "The secret `HF_TOKEN` does not exist in your Colab secrets.\n",
      "To authenticate with the Hugging Face Hub, create a token in your settings tab (https://huggingface.co/settings/tokens), set it as secret in your Google Colab and restart your session.\n",
      "You will be able to reuse this secret in all of your notebooks.\n",
      "Please note that authentication is recommended but still optional to access public models or datasets.\n",
      "  warnings.warn(\n"
     ]
    },
    {
     "data": {
      "application/vnd.jupyter.widget-view+json": {
       "model_id": "9cd6cf50b8ab414e80b6e9ffe3ebb011",
       "version_major": 2,
       "version_minor": 0
      },
      "text/plain": [
       "tokenizer_config.json:   0%|          | 0.00/25.0 [00:00<?, ?B/s]"
      ]
     },
     "metadata": {},
     "output_type": "display_data"
    },
    {
     "data": {
      "application/vnd.jupyter.widget-view+json": {
       "model_id": "3c9a095db7e6450ea28c99c870746b25",
       "version_major": 2,
       "version_minor": 0
      },
      "text/plain": [
       "config.json:   0%|          | 0.00/482 [00:00<?, ?B/s]"
      ]
     },
     "metadata": {},
     "output_type": "display_data"
    },
    {
     "data": {
      "application/vnd.jupyter.widget-view+json": {
       "model_id": "2034c16c58e644a9bb748c9c8e6585b5",
       "version_major": 2,
       "version_minor": 0
      },
      "text/plain": [
       "vocab.json:   0%|          | 0.00/899k [00:00<?, ?B/s]"
      ]
     },
     "metadata": {},
     "output_type": "display_data"
    },
    {
     "data": {
      "application/vnd.jupyter.widget-view+json": {
       "model_id": "c73b67fa6c1143ba91f294b7ea84027b",
       "version_major": 2,
       "version_minor": 0
      },
      "text/plain": [
       "merges.txt:   0%|          | 0.00/456k [00:00<?, ?B/s]"
      ]
     },
     "metadata": {},
     "output_type": "display_data"
    },
    {
     "data": {
      "application/vnd.jupyter.widget-view+json": {
       "model_id": "e00cfc6189f3496c80bb351d6d8054c0",
       "version_major": 2,
       "version_minor": 0
      },
      "text/plain": [
       "tokenizer.json:   0%|          | 0.00/1.36M [00:00<?, ?B/s]"
      ]
     },
     "metadata": {},
     "output_type": "display_data"
    },
    {
     "name": "stderr",
     "output_type": "stream",
     "text": [
      "Xet Storage is enabled for this repo, but the 'hf_xet' package is not installed. Falling back to regular HTTP download. For better performance, install the package with: `pip install huggingface_hub[hf_xet]` or `pip install hf_xet`\n",
      "WARNING:huggingface_hub.file_download:Xet Storage is enabled for this repo, but the 'hf_xet' package is not installed. Falling back to regular HTTP download. For better performance, install the package with: `pip install huggingface_hub[hf_xet]` or `pip install hf_xet`\n"
     ]
    },
    {
     "data": {
      "application/vnd.jupyter.widget-view+json": {
       "model_id": "f750717620494beca6e1e9e41a57f72d",
       "version_major": 2,
       "version_minor": 0
      },
      "text/plain": [
       "model.safetensors:   0%|          | 0.00/1.42G [00:00<?, ?B/s]"
      ]
     },
     "metadata": {},
     "output_type": "display_data"
    },
    {
     "name": "stderr",
     "output_type": "stream",
     "text": [
      "Some weights of RobertaModel were not initialized from the model checkpoint at roberta-large and are newly initialized: ['pooler.dense.bias', 'pooler.dense.weight']\n",
      "You should probably TRAIN this model on a down-stream task to be able to use it for predictions and inference.\n"
     ]
    },
    {
     "name": "stdout",
     "output_type": "stream",
     "text": [
      "calculating scores...\n",
      "computing bert embedding.\n"
     ]
    },
    {
     "data": {
      "application/vnd.jupyter.widget-view+json": {
       "model_id": "0dd1ab8cce7b451489dc39d7d5bb858f",
       "version_major": 2,
       "version_minor": 0
      },
      "text/plain": [
       "  0%|          | 0/3 [00:00<?, ?it/s]"
      ]
     },
     "metadata": {},
     "output_type": "display_data"
    },
    {
     "name": "stdout",
     "output_type": "stream",
     "text": [
      "computing greedy matching.\n"
     ]
    },
    {
     "data": {
      "application/vnd.jupyter.widget-view+json": {
       "model_id": "bbb2bebc4f4541ff9b122e51d01543ba",
       "version_major": 2,
       "version_minor": 0
      },
      "text/plain": [
       "  0%|          | 0/2 [00:00<?, ?it/s]"
      ]
     },
     "metadata": {},
     "output_type": "display_data"
    },
    {
     "name": "stdout",
     "output_type": "stream",
     "text": [
      "done in 1.02 seconds, 97.69 sentences/sec\n",
      "\n",
      "📊 BERTScore Results:\n",
      "Precision : 0.7583\n",
      "Recall    : 0.801\n",
      "F1 Score  : 0.779\n"
     ]
    }
   ],
   "source": [
    "\n",
    "from bert_score import score\n",
    "import numpy as np\n",
    "# ✅ Prepare reference and candidate summaries\n",
    "references = []\n",
    "candidates = []\n",
    "\n",
    "sos_token = \"sos\"\n",
    "eos_token = \"eos\"\n",
    "\n",
    "for i in range(len(X_test)):\n",
    "    input_seq = X_test[i:i+1]\n",
    "    target_seq = y_test[i]\n",
    "\n",
    "    ref_summary = decode_sequence(target_seq, tokenizer)\n",
    "    gen_summary = beam_search_decode(input_seq, model, tokenizer, beam_width=4)\n",
    "\n",
    "    # Remove special tokens\n",
    "    ref_clean = ' '.join([w for w in ref_summary.split() if w not in [sos_token, eos_token]])\n",
    "    gen_clean = ' '.join([w for w in gen_summary.split() if w not in [sos_token, eos_token]])\n",
    "\n",
    "    references.append(ref_clean)\n",
    "    candidates.append(gen_clean)\n",
    "\n",
    "# ✅ Compute BERTScore\n",
    "P, R, F1 = score(candidates, references, lang='en', verbose=True)\n",
    "\n",
    "# ✅ Print averages\n",
    "print(\"\\n📊 BERTScore Results:\")\n",
    "print(\"Precision :\", round(P.mean().item(), 4))\n",
    "print(\"Recall    :\", round(R.mean().item(), 4))\n",
    "print(\"F1 Score  :\", round(F1.mean().item(), 4))"
   ]
  },
  {
   "cell_type": "code",
   "execution_count": null,
   "metadata": {
    "colab": {
     "base_uri": "https://localhost:8080/"
    },
    "id": "yDyqpoiDRba4",
    "outputId": "26aa4d02-92a5-4936-9f05-4185ab1b520d"
   },
   "outputs": [
    {
     "name": "stdout",
     "output_type": "stream",
     "text": [
      "Collecting rouge-score\n",
      "  Downloading rouge_score-0.1.2.tar.gz (17 kB)\n",
      "  Preparing metadata (setup.py) ... \u001b[?25l\u001b[?25hdone\n",
      "Requirement already satisfied: absl-py in /usr/local/lib/python3.11/dist-packages (from rouge-score) (1.4.0)\n",
      "Requirement already satisfied: nltk in /usr/local/lib/python3.11/dist-packages (from rouge-score) (3.9.1)\n",
      "Requirement already satisfied: numpy in /usr/local/lib/python3.11/dist-packages (from rouge-score) (1.26.4)\n",
      "Requirement already satisfied: six>=1.14.0 in /usr/local/lib/python3.11/dist-packages (from rouge-score) (1.17.0)\n",
      "Requirement already satisfied: click in /usr/local/lib/python3.11/dist-packages (from nltk->rouge-score) (8.1.8)\n",
      "Requirement already satisfied: joblib in /usr/local/lib/python3.11/dist-packages (from nltk->rouge-score) (1.4.2)\n",
      "Requirement already satisfied: regex>=2021.8.3 in /usr/local/lib/python3.11/dist-packages (from nltk->rouge-score) (2024.11.6)\n",
      "Requirement already satisfied: tqdm in /usr/local/lib/python3.11/dist-packages (from nltk->rouge-score) (4.67.1)\n",
      "Building wheels for collected packages: rouge-score\n",
      "  Building wheel for rouge-score (setup.py) ... \u001b[?25l\u001b[?25hdone\n",
      "  Created wheel for rouge-score: filename=rouge_score-0.1.2-py3-none-any.whl size=24934 sha256=fc8c707654c15e773b661c07d8e6fa17934e79c6ca0e414cde83cfeec0ae1d70\n",
      "  Stored in directory: /root/.cache/pip/wheels/1e/19/43/8a442dc83660ca25e163e1bd1f89919284ab0d0c1475475148\n",
      "Successfully built rouge-score\n",
      "Installing collected packages: rouge-score\n",
      "Successfully installed rouge-score-0.1.2\n"
     ]
    }
   ],
   "source": [
    "!pip install rouge-score"
   ]
  },
  {
   "cell_type": "code",
   "execution_count": null,
   "metadata": {
    "colab": {
     "background_save": true,
     "base_uri": "https://localhost:8080/"
    },
    "id": "YV-vAOG_RfAN",
    "outputId": "dd821402-7d49-46e3-ac94-060d758e1d71"
   },
   "outputs": [
    {
     "name": "stderr",
     "output_type": "stream",
     "text": [
      "/usr/local/lib/python3.11/dist-packages/tensorflow/python/data/ops/structured_function.py:258: UserWarning: Even though the `tf.config.experimental_run_functions_eagerly` option is set, this option does not apply to tf.data functions. To force eager execution of tf.data functions, please use `tf.data.experimental.enable_debug_mode()`.\n",
      "  warnings.warn(\n"
     ]
    },
    {
     "name": "stdout",
     "output_type": "stream",
     "text": [
      "Average ROUGE Scores (without SOS/EOS):\n",
      "ROUGE-1: 0.119\n",
      "ROUGE-2: 0.0131\n",
      "ROUGE-L: 0.0912\n"
     ]
    }
   ],
   "source": [
    "from rouge_score import rouge_scorer\n",
    "\n",
    "# Create a ROUGE scorer\n",
    "scorer = rouge_scorer.RougeScorer(['rouge1', 'rouge2', 'rougeL'], use_stemmer=True)\n",
    "\n",
    "# Track scores for all test examples\n",
    "rouge1_scores = []\n",
    "rouge2_scores = []\n",
    "rougeL_scores = []\n",
    "\n",
    "# Fetch special tokens\n",
    "sos_token = \"sos\"\n",
    "eos_token = \"eos\"\n",
    "\n",
    "# Loop over all test samples\n",
    "for i in range(len(X_test)):\n",
    "    input_seq = X_test[i:i+1]\n",
    "    target_seq = y_test[i]\n",
    "\n",
    "    # Decode reference and prediction\n",
    "    ref_summary = decode_sequence(target_seq, tokenizer)\n",
    "    gen_summary = beam_search_decode(input_seq, model, tokenizer, beam_width=4)\n",
    "\n",
    "    # Remove 'sos' and 'eos' from both\n",
    "    ref_clean = ' '.join([word for word in ref_summary.split() if word not in [sos_token, eos_token]])\n",
    "    gen_clean = ' '.join([word for word in gen_summary.split() if word not in [sos_token, eos_token]])\n",
    "\n",
    "    # Score\n",
    "    scores = scorer.score(ref_clean, gen_clean)\n",
    "    rouge1_scores.append(scores[\"rouge1\"].fmeasure)\n",
    "    rouge2_scores.append(scores[\"rouge2\"].fmeasure)\n",
    "    rougeL_scores.append(scores[\"rougeL\"].fmeasure)\n",
    "\n",
    "# Compute average scores\n",
    "avg_rouge1 = np.mean(rouge1_scores)\n",
    "avg_rouge2 = np.mean(rouge2_scores)\n",
    "avg_rougeL = np.mean(rougeL_scores)\n",
    "\n",
    "print(\"Average ROUGE Scores (without SOS/EOS):\")\n",
    "print(\"ROUGE-1:\", round(avg_rouge1, 4))\n",
    "print(\"ROUGE-2:\", round(avg_rouge2, 4))\n",
    "print(\"ROUGE-L:\", round(avg_rougeL, 4))"
   ]
  }
 ],
 "metadata": {
  "accelerator": "GPU",
  "colab": {
   "gpuType": "A100",
   "machine_shape": "hm",
   "provenance": []
  },
  "kernelspec": {
   "display_name": "Python 3 (ipykernel)",
   "language": "python",
   "name": "python3"
  },
  "language_info": {
   "codemirror_mode": {
    "name": "ipython",
    "version": 3
   },
   "file_extension": ".py",
   "mimetype": "text/x-python",
   "name": "python",
   "nbconvert_exporter": "python",
   "pygments_lexer": "ipython3",
   "version": "3.11.8"
  }
 },
 "nbformat": 4,
 "nbformat_minor": 4
}
